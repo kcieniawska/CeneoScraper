{
 "cells": [
  {
   "cell_type": "markdown",
   "metadata": {},
   "source": [
    "# Ceneo Scraper"
   ]
  },
  {
   "cell_type": "markdown",
   "metadata": {},
   "source": [
    "## Lista kroków \"manualnych\"\n",
    "\n",
    "1. Wejdź na stronę produktu / z opiniami o produkcie\n",
    "2. Dla każdej opinii na stronie\n",
    "    1. Skpiuj opinię\n",
    "    2. Wklej opinię do edytora tekstu\n",
    "3. Przejź do klejnej strony z opiami\n",
    "4. Powtarzaj kroki 2-3 dopóki są strony z opiniami  \n",
    "\n",
    "## Lista kroków scrapera\n",
    "\n",
    "1. Wysłanie żądania dostępu do zasobu - strona z opiniami o produkcie\n",
    "2. Wydobycie z kodu HTML fragmentów odpowiadających opiniom\n",
    "3. Dla każdej opinii na stronie\n",
    "    1. Wydobycie z kodu opini jej składowych \n",
    "    2. Dodanie do słownika reprezntującą pojedynczą opinię do listy\n",
    "4. Przejdź do kolejnej strony z opiniami\n",
    "5. Powtarzaj kroki 1-4 dopóki są listy z opiniami\n",
    "6. Zapis listy słowników do pliku JSON"
   ]
  },
  {
   "cell_type": "markdown",
   "metadata": {},
   "source": [
    "## Struktura opini w serwisie Ceneo.pl\n",
    "\n",
    "|składowa|nazwa|selektor|\n",
    "|--------|-----|--------|\n",
    "|identyfikator opinii|opinion_id||\n",
    "|autor|author||\n",
    "|rekomendacja|recommendation||\n",
    "|treść opinii|content||\n",
    "|lista zalet|pros||\n",
    "|lista wad|cons||\n",
    "|data wystawienia opinii|post_date||\n",
    "|data zakupu produktu|purchase_date||\n",
    "|ile osób uznało opinię za przydatną|useful||\n",
    "|ile osób uznało opinię za nieprzydatną|useless||"
   ]
  },
  {
   "cell_type": "markdown",
   "metadata": {},
   "source": [
    "Produkty:\n",
    "1. 63717975\n",
    "2. 124893467\n",
    "3. 108481121\n",
    "4. 114228736\n",
    "5. 28020568"
   ]
  },
  {
   "cell_type": "code",
   "execution_count": 201,
   "metadata": {},
   "outputs": [],
   "source": [
    "import requests, os, json\n",
    "from bs4 import BeautifulSoup"
   ]
  },
  {
   "cell_type": "code",
   "execution_count": 202,
   "metadata": {},
   "outputs": [],
   "source": [
    "product_code = input(\"Podaj kod produktu z Ceneo.pl: \")\n",
    "url = f\"https://www.ceneo.pl/{product_code}#tab=reviews\""
   ]
  },
  {
   "cell_type": "code",
   "execution_count": 203,
   "metadata": {},
   "outputs": [],
   "source": [
    "def get_data(ancestor, selector, attribute=None, return_list=False):\n",
    "     if return_list:\n",
    "          return [tag.text.strip() for tag in ancestor.select(selector)] \n",
    "     if attribute:\n",
    "          if selector:\n",
    "               try:\n",
    "                    return ancestor.select_one(selector)[attribute].strip()\n",
    "               except TypeError:\n",
    "                    return None\n",
    "          return ancestor[attribute].strip()\n",
    "     try:\n",
    "          return ancestor.select_one(selector).text.strip()\n",
    "     except AttributeError:\n",
    "          return None"
   ]
  },
  {
   "cell_type": "code",
   "execution_count": 204,
   "metadata": {},
   "outputs": [],
   "source": [
    "selectors = {\n",
    "            'opinion_id':(None, \"data-entry-id\"),\n",
    "            'author': (\"span.user-post__author-name\",),\n",
    "            'recommendation': (\"span.user-post__author-name\",),\n",
    "            'stars': (\"span.user-post__score-count\",),\n",
    "            'content': (\"div.user-post__text\",),\n",
    "            'pros': (\"div.review-feature__title--positives ~ div.review-feature__item\", None, True),\n",
    "            'cons': (\"div.review-feature__title--negatives ~ div.review-feature__item\", None, True),\n",
    "            'post_date': (\"span.user-post__published > time:nth-child(1)\", \"datetime\"),\n",
    "            'purchase_date': (\"span.user-post__published > time:nth-child(2)\", \"datetime\"),\n",
    "            'useful': (\"button.vote-yes > span\",),\n",
    "            'useless': (\"button.vote-no > span\",)\n",
    "        }"
   ]
  },
  {
   "cell_type": "code",
   "execution_count": 205,
   "metadata": {},
   "outputs": [
    {
     "name": "stdout",
     "output_type": "stream",
     "text": [
      "https://www.ceneo.pl/28020568#tab=reviews\n",
      "https://ceneo.pl/28020568/opinie-2\n",
      "https://ceneo.pl/28020568/opinie-3\n",
      "https://ceneo.pl/28020568/opinie-4\n",
      "https://ceneo.pl/28020568/opinie-5\n"
     ]
    }
   ],
   "source": [
    "all_opinions=[]\n",
    "while(url):\n",
    "    print(url)\n",
    "    response = requests.get(url)\n",
    "    page = BeautifulSoup(response.text, \"html.parser\")\n",
    "    opinions = page.select(\"div.js_product-review\") \n",
    "    for opinion in opinions:\n",
    "        single_opinion = {\n",
    "            key: get_data(opinion, *value)\n",
    "                for key, value in selectors.items()\n",
    "        }\n",
    "    all_opinions.append(single_opinion)\n",
    "    try:\n",
    "        url = \"https://ceneo.pl\"+page.select_one(\"a.pagination__next\")[\"href\"]\n",
    "    except TypeError:\n",
    "        url = None"
   ]
  },
  {
   "cell_type": "code",
   "execution_count": 206,
   "metadata": {},
   "outputs": [],
   "source": [
    "\n",
    "if not os.path.exists(\"opinions\"):\n",
    "    os.mkdir(\"opinions\")\n",
    "jf = open(f\"opinions/{product_code}.json\",\"w\",encoding=\"UTF-8\")\n",
    "json.dump(all_opinions, jf, indent=4, ensure_ascii=False)\n",
    "jf.close()"
   ]
  }
 ],
 "metadata": {
  "kernelspec": {
   "display_name": ".venv",
   "language": "python",
   "name": "python3"
  },
  "language_info": {
   "codemirror_mode": {
    "name": "ipython",
    "version": 3
   },
   "file_extension": ".py",
   "mimetype": "text/x-python",
   "name": "python",
   "nbconvert_exporter": "python",
   "pygments_lexer": "ipython3",
   "version": "3.12.0"
  }
 },
 "nbformat": 4,
 "nbformat_minor": 2
}
